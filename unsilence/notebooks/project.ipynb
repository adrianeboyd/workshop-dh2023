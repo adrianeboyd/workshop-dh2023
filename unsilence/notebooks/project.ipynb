{
 "cells": [
  {
   "cell_type": "code",
   "execution_count": null,
   "id": "3deffeb1-c194-48a3-9b21-e80150fafdac",
   "metadata": {},
   "outputs": [],
   "source": [
    "!python -m pip install spacy"
   ]
  },
  {
   "cell_type": "code",
   "execution_count": null,
   "id": "7af400df-0956-4699-9721-11405007feb4",
   "metadata": {},
   "outputs": [],
   "source": [
    "!python -m spacy project clone unsilence -r https://github.com/adrianeboyd/workshop-dh2023"
   ]
  },
  {
   "cell_type": "code",
   "execution_count": null,
   "id": "3a44dcf7-9b86-4036-b597-bf1e87317fa4",
   "metadata": {},
   "outputs": [],
   "source": [
    "!cd unsilence"
   ]
  },
  {
   "cell_type": "code",
   "execution_count": null,
   "id": "d5f31739-c201-4e57-b523-43920eb7053d",
   "metadata": {},
   "outputs": [],
   "source": [
    "!python -m pip install -r requirements.txt"
   ]
  },
  {
   "cell_type": "code",
   "execution_count": null,
   "id": "7dd0131a-ed30-43e9-9b36-04bf844d23a7",
   "metadata": {},
   "outputs": [],
   "source": [
    "!python -m spacy project assets"
   ]
  },
  {
   "cell_type": "code",
   "execution_count": null,
   "id": "3bf546d4-c008-4de0-97a8-6d8a074c27d5",
   "metadata": {},
   "outputs": [],
   "source": [
    "!python -m spacy project run --help"
   ]
  },
  {
   "cell_type": "code",
   "execution_count": null,
   "id": "617ff29f-e40f-421a-98b6-93de07c7c0d9",
   "metadata": {},
   "outputs": [],
   "source": [
    "!python -m spacy project run download"
   ]
  },
  {
   "cell_type": "code",
   "execution_count": null,
   "id": "eb6f007e-2051-4a89-b241-928b13a56fb5",
   "metadata": {},
   "outputs": [],
   "source": [
    "!python -m spacy project run convert"
   ]
  },
  {
   "cell_type": "code",
   "execution_count": null,
   "id": "569f7db3-efb1-44e1-972b-594535a3bc4e",
   "metadata": {},
   "outputs": [],
   "source": [
    "!python -m spacy project run train-spancat"
   ]
  },
  {
   "cell_type": "code",
   "execution_count": null,
   "id": "b0754d92-2dee-4ad0-bfb4-d6fc4bcc3cbc",
   "metadata": {},
   "outputs": [],
   "source": [
    "!python -m spacy evaluate training/spancat/model-last corpus/test-nl.spans.spacy"
   ]
  }
 ],
 "metadata": {
  "kernelspec": {
   "display_name": "Python 3 (ipykernel)",
   "language": "python",
   "name": "python3"
  },
  "language_info": {
   "codemirror_mode": {
    "name": "ipython",
    "version": 3
   },
   "file_extension": ".py",
   "mimetype": "text/x-python",
   "name": "python",
   "nbconvert_exporter": "python",
   "pygments_lexer": "ipython3",
   "version": "3.8.10"
  }
 },
 "nbformat": 4,
 "nbformat_minor": 5
}
