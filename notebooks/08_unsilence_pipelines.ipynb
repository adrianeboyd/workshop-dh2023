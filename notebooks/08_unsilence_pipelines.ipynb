{
 "cells": [
  {
   "cell_type": "markdown",
   "id": "41787f8b",
   "metadata": {},
   "source": [
    "Install spaCy:"
   ]
  },
  {
   "cell_type": "code",
   "execution_count": null,
   "id": "98a6f76a",
   "metadata": {},
   "outputs": [],
   "source": [
    "!python -m pip install spacy==3.6.0.dev1 --quiet"
   ]
  },
  {
   "cell_type": "markdown",
   "id": "e40a00ee",
   "metadata": {},
   "source": [
    "Clone repository and install demo trained pipeline:"
   ]
  },
  {
   "cell_type": "code",
   "execution_count": null,
   "id": "b9496e64",
   "metadata": {},
   "outputs": [],
   "source": [
    "%cd\n",
    "!python -m spacy project clone unsilence -r https://github.com/adrianeboyd/workshop-dh2023\n",
    "%cd unsilence\n",
    "!python -m pip install -r requirements.txt --quiet\n",
    "!python -m pip install https://github.com/adrianeboyd/workshop-dh2023/releases/download/v0.0.1/nl_spancat_unsilence_lg-0.0.1-py3-none-any.whl --quiet --no-deps"
   ]
  },
  {
   "cell_type": "code",
   "execution_count": null,
   "id": "b84f2b58",
   "metadata": {},
   "outputs": [],
   "source": [
    "import spacy\n",
    "from spacy.displacy import render\n",
    "from spacy.tokens import DocBin, Span"
   ]
  },
  {
   "cell_type": "code",
   "execution_count": null,
   "id": "7655f23b",
   "metadata": {},
   "outputs": [],
   "source": [
    "nlp = spacy.load(\"nl_spancat_unsilence_lg\")"
   ]
  },
  {
   "cell_type": "markdown",
   "id": "0a66497d",
   "metadata": {},
   "source": [
    "Reload this cell to start again at the first doc:"
   ]
  },
  {
   "cell_type": "code",
   "execution_count": null,
   "id": "1f5ff348",
   "metadata": {},
   "outputs": [],
   "source": [
    "docs = DocBin().from_disk(\"corpus/dev-nl.spans.spacy\").get_docs(nlp.vocab)"
   ]
  },
  {
   "cell_type": "markdown",
   "id": "b5ff83df",
   "metadata": {},
   "source": [
    "Reload the following cell to step through the docs with predictions:"
   ]
  },
  {
   "cell_type": "code",
   "execution_count": null,
   "id": "75e5d81e",
   "metadata": {},
   "outputs": [],
   "source": [
    "doc = next(docs)\n",
    "doc.spans[\"sc\"] = []\n",
    "# copy the gold labels to doc.spans[\"sc\"]\n",
    "for span in doc.spans[\"NE-MAIN\"]:\n",
    "    doc.spans[\"sc\"] += [Span(doc, span.start, span.end, label=\"GOLD_\" + span.label_)]\n",
    "# run the pipeline\n",
    "doc = nlp(doc)\n",
    "# copy the predicted labels to doc.spans[\"sc\"]\n",
    "for span in doc.spans[\"NE-MAIN\"]:\n",
    "    doc.spans[\"sc\"] += [Span(doc, span.start, span.end, label=\"PRED_\" + span.label_)]\n",
    "    \n",
    "# displacy the gold and predicted annotation with displacy\n",
    "colors = {\"GOLD_Person\": \"#09A3D5\", \"GOLD_Organization\": \"#00A569\", \"GOLD_Place\": \"#FAB400\", \"PRED_Person\": \"#D0F1FC\", \"PRED_Organization\": \"#16FFAB\", \"PRED_Place\": \"#F6C974\"}\n",
    "render(doc, style=\"span\", options={\"colors\": colors})"
   ]
  }
 ],
 "metadata": {
  "kernelspec": {
   "display_name": "Python 3 (ipykernel)",
   "language": "python",
   "name": "python3"
  },
  "language_info": {
   "codemirror_mode": {
    "name": "ipython",
    "version": 3
   },
   "file_extension": ".py",
   "mimetype": "text/x-python",
   "name": "python",
   "nbconvert_exporter": "python",
   "pygments_lexer": "ipython3",
   "version": "3.8.10"
  }
 },
 "nbformat": 4,
 "nbformat_minor": 5
}
