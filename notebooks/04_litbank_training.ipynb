{
 "cells": [
  {
   "cell_type": "code",
   "execution_count": null,
   "id": "3deffeb1-c194-48a3-9b21-e80150fafdac",
   "metadata": {},
   "outputs": [],
   "source": [
    "!python -m pip install spacy==3.6.0.dev1 --quiet"
   ]
  },
  {
   "cell_type": "code",
   "execution_count": null,
   "id": "7af400df-0956-4699-9721-11405007feb4",
   "metadata": {},
   "outputs": [],
   "source": [
    "# clone project and install requirements\n",
    "\n",
    "# edit the line below to choose a different working directory\n",
    "%cd\n",
    "\n",
    "!python -m spacy project clone litbank -r https://github.com/adrianeboyd/workshop-dh2023\n",
    "%cd litbank\n",
    "!python -m pip install -r requirements.txt --quiet"
   ]
  },
  {
   "cell_type": "code",
   "execution_count": null,
   "id": "7dd0131a-ed30-43e9-9b36-04bf844d23a7",
   "metadata": {},
   "outputs": [],
   "source": [
    "# download dataset\n",
    "\n",
    "!python -m spacy project assets"
   ]
  },
  {
   "cell_type": "code",
   "execution_count": null,
   "id": "3bf546d4-c008-4de0-97a8-6d8a074c27d5",
   "metadata": {},
   "outputs": [],
   "source": [
    "# show all project run commands\n",
    "\n",
    "!python -m spacy project run --help"
   ]
  },
  {
   "cell_type": "code",
   "execution_count": null,
   "id": "617ff29f-e40f-421a-98b6-93de07c7c0d9",
   "metadata": {},
   "outputs": [],
   "source": [
    "# download vectors\n",
    "\n",
    "#!python -m spacy project run download-lg\n",
    "# TODO: replace after v3.6.0 release\n",
    "!python -m pip install https://github.com/explosion/spacy-models/releases/download/en_core_web_lg-3.5.0/en_core_web_lg-3.5.0-py3-none-any.whl --no-deps"
   ]
  },
  {
   "cell_type": "code",
   "execution_count": null,
   "id": "eb6f007e-2051-4a89-b241-928b13a56fb5",
   "metadata": {},
   "outputs": [],
   "source": [
    "# convert data for spacy\n",
    "\n",
    "!python -m spacy project run prepare-entities"
   ]
  },
  {
   "cell_type": "code",
   "execution_count": null,
   "id": "569f7db3-efb1-44e1-972b-594535a3bc4e",
   "metadata": {},
   "outputs": [],
   "source": [
    "# train the model\n",
    "\n",
    "# on CPU:\n",
    "!python -m spacy project run train-spancat_span_finder_lg\n",
    "# on GPU:\n",
    "# !python -m spacy project run train-entities . --vars.gpu 0"
   ]
  },
  {
   "cell_type": "code",
   "execution_count": null,
   "id": "50d82fb3",
   "metadata": {},
   "outputs": [],
   "source": [
    "# create a model package\n",
    "\n",
    "!rm -rf packages\n",
    "!mkdir packages\n",
    "!python -m spacy project run package-spancat_span_finder_lg"
   ]
  },
  {
   "cell_type": "code",
   "execution_count": null,
   "id": "85a2b654",
   "metadata": {},
   "outputs": [],
   "source": [
    "# on colab: mount drive\n",
    "\n",
    "from google.colab import drive\n",
    "drive.mount('/content/drive')"
   ]
  },
  {
   "cell_type": "code",
   "execution_count": null,
   "id": "5ccb05f3",
   "metadata": {},
   "outputs": [],
   "source": [
    "# on colab: copy to drive\n",
    "\n",
    "!cp packages/spancat_ngram_lg/en_litbank_spancat_ngram_lg-0.0.1/dist/en_litbank_spancat_ngram_lg-0.0.1-py3-none-any.whl /content/drive/MyDrive"
   ]
  }
 ],
 "metadata": {
  "kernelspec": {
   "display_name": "Python 3 (ipykernel)",
   "language": "python",
   "name": "python3"
  },
  "language_info": {
   "codemirror_mode": {
    "name": "ipython",
    "version": 3
   },
   "file_extension": ".py",
   "mimetype": "text/x-python",
   "name": "python",
   "nbconvert_exporter": "python",
   "pygments_lexer": "ipython3",
   "version": "3.8.10"
  }
 },
 "nbformat": 4,
 "nbformat_minor": 5
}
