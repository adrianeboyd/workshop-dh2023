{
 "cells": [
  {
   "cell_type": "markdown",
   "id": "41787f8b",
   "metadata": {},
   "source": [
    "Install spaCy:"
   ]
  },
  {
   "cell_type": "code",
   "execution_count": null,
   "id": "98a6f76a",
   "metadata": {},
   "outputs": [],
   "source": [
    "!python -m pip install spacy==3.6.0.dev1 --quiet"
   ]
  },
  {
   "cell_type": "markdown",
   "id": "e40a00ee",
   "metadata": {},
   "source": [
    "Install demo trained spancat pipeline:"
   ]
  },
  {
   "cell_type": "code",
   "execution_count": null,
   "id": "b9496e64",
   "metadata": {},
   "outputs": [],
   "source": [
    "!python -m pip install https://github.com/adrianeboyd/workshop-dh2023/releases/download/v0.0.1/en_spancat_litbankentities_lg-0.0.1-py3-none-any.whl --quiet --no-deps"
   ]
  },
  {
   "cell_type": "code",
   "execution_count": null,
   "id": "b84f2b58",
   "metadata": {},
   "outputs": [],
   "source": [
    "import spacy\n",
    "nlp = spacy.load(\"en_spancat_litbankentities_lg\")"
   ]
  },
  {
   "cell_type": "code",
   "execution_count": null,
   "id": "7655f23b",
   "metadata": {},
   "outputs": [],
   "source": [
    "from spacy.displacy import render\n",
    "colors = {\n",
    "    \"LOC\": \"#42D1FF\",\n",
    "    \"GPE\": \"#DB536B\",\n",
    "    \"PER\": \"#FAB400\",\n",
    "    \"FAC\": \"#94356F\",\n",
    "    \"ORG\": \"#FF6A16\",\n",
    "    \"VEH\": \"#319621\",\n",
    "}"
   ]
  },
  {
   "cell_type": "code",
   "execution_count": null,
   "id": "1f5ff348",
   "metadata": {},
   "outputs": [],
   "source": [
    "doc = nlp(\"“ My dear Mr. Bennet , ” said his lady to him one day , “ have you heard that Netherfield Park is let at last ? ”\")"
   ]
  },
  {
   "cell_type": "code",
   "execution_count": null,
   "id": "1da70a20",
   "metadata": {},
   "outputs": [],
   "source": [
    "for i, token in enumerate(doc):\n",
    "    print(i, token.text)"
   ]
  },
  {
   "cell_type": "code",
   "execution_count": null,
   "id": "eb3d386f",
   "metadata": {},
   "outputs": [],
   "source": [
    "doc.spans[\"entities\"]"
   ]
  },
  {
   "cell_type": "code",
   "execution_count": null,
   "id": "61d691be",
   "metadata": {},
   "outputs": [],
   "source": [
    "for span in doc.spans[\"entities\"]:\n",
    "    print(span.label_, span.start, span.end, span.text)"
   ]
  },
  {
   "cell_type": "code",
   "execution_count": null,
   "id": "048d49f3",
   "metadata": {},
   "outputs": [],
   "source": [
    "render(doc, style=\"span\", options={\"spans_key\": \"entities\", \"colors\": colors}, jupyter=True)"
   ]
  },
  {
   "cell_type": "code",
   "execution_count": null,
   "id": "8119309e",
   "metadata": {},
   "outputs": [],
   "source": [
    "doc = nlp(\"\"\"\n",
    "“ Why , my dear , you must know , Mrs. Long says that Netherfield is \n",
    "taken by a young man of large fortune from the north of England ; that \n",
    "he came down on Monday in a chaise and four to see the place , and was \n",
    "so much delighted with it , that he agreed with Mr. Morris immediately ; \n",
    "that he is to take possession before Michaelmas , and some of his \n",
    "servants are to be in the house by the end of next week . ”\n",
    "\"\"\")\n",
    "render(doc, style=\"span\", options={\"spans_key\": \"entities\", \"colors\": colors}, jupyter=True)"
   ]
  },
  {
   "cell_type": "code",
   "execution_count": null,
   "id": "313a7a32",
   "metadata": {},
   "outputs": [],
   "source": [
    "doc = nlp(\"\"\"\n",
    "Mrs. John Dashwood now installed herself mistress of Norland; and her\n",
    "mother and sisters-in-law were degraded to the condition of visitors.\n",
    "As such, however, they were treated by her with quiet civility; and by\n",
    "her husband with as much kindness as he could feel towards anybody\n",
    "beyond himself, his wife, and their child. He really pressed them, with\n",
    "some earnestness, to consider Norland as their home; and, as no plan\n",
    "appeared so eligible to Mrs. Dashwood as remaining there till she could\n",
    "accommodate herself with a house in the neighbourhood, his invitation\n",
    "was accepted.\n",
    "\"\"\")\n",
    "render(doc, style=\"span\", options={\"spans_key\": \"entities\", \"colors\": colors}, jupyter=True)"
   ]
  }
 ],
 "metadata": {
  "kernelspec": {
   "display_name": "Python 3 (ipykernel)",
   "language": "python",
   "name": "python3"
  },
  "language_info": {
   "codemirror_mode": {
    "name": "ipython",
    "version": 3
   },
   "file_extension": ".py",
   "mimetype": "text/x-python",
   "name": "python",
   "nbconvert_exporter": "python",
   "pygments_lexer": "ipython3",
   "version": "3.8.10"
  }
 },
 "nbformat": 4,
 "nbformat_minor": 5
}
