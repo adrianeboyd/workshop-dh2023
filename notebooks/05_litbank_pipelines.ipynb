{
 "cells": [
  {
   "cell_type": "markdown",
   "id": "41787f8b",
   "metadata": {},
   "source": [
    "Install spaCy:"
   ]
  },
  {
   "cell_type": "code",
   "execution_count": null,
   "id": "98a6f76a",
   "metadata": {},
   "outputs": [],
   "source": [
    "!python -m pip install spacy==3.6.0.dev1 --quiet"
   ]
  },
  {
   "cell_type": "markdown",
   "id": "e40a00ee",
   "metadata": {},
   "source": [
    "Clone repository and install demo trained pipeline:"
   ]
  },
  {
   "cell_type": "code",
   "execution_count": null,
   "id": "b9496e64",
   "metadata": {},
   "outputs": [],
   "source": [
    "%cd\n",
    "!python -m spacy project clone litbank -r https://github.com/adrianeboyd/workshop-dh2023\n",
    "%cd litbank\n",
    "!python -m pip install https://github.com/adrianeboyd/workshop-dh2023/releases/download/v0.0.1/en_spancat_litbankentities_lg-0.0.1-py3-none-any.whl --quiet --no-deps"
   ]
  },
  {
   "cell_type": "code",
   "execution_count": null,
   "id": "b84f2b58",
   "metadata": {},
   "outputs": [],
   "source": [
    "import spacy\n",
    "from spacy.displacy import render\n",
    "from spacy.tokens import DocBin, Span"
   ]
  },
  {
   "cell_type": "code",
   "execution_count": null,
   "id": "7655f23b",
   "metadata": {},
   "outputs": [],
   "source": [
    "nlp = spacy.load(\"en_spancat_litbankentities_lg\")"
   ]
  },
  {
   "cell_type": "markdown",
   "id": "0a66497d",
   "metadata": {},
   "source": [
    "Reload this cell to start again at the first doc:"
   ]
  },
  {
   "cell_type": "code",
   "execution_count": null,
   "id": "1f5ff348",
   "metadata": {},
   "outputs": [],
   "source": [
    "docs = DocBin().from_disk(\"corpus/entity_spans-dev.spacy\").get_docs(nlp.vocab)"
   ]
  },
  {
   "cell_type": "markdown",
   "id": "b5ff83df",
   "metadata": {},
   "source": [
    "Reload the following cell to step through the docs with predictions:"
   ]
  },
  {
   "cell_type": "code",
   "execution_count": null,
   "id": "75e5d81e",
   "metadata": {},
   "outputs": [],
   "source": [
    "doc = next(docs)\n",
    "doc.spans[\"sc\"] = []\n",
    "# copy the gold labels to doc.spans[\"sc\"]\n",
    "for span in doc.spans[\"entities\"]:\n",
    "    doc.spans[\"sc\"] += [Span(doc, span.start, span.end, label=\"GOLD_\" + span.label_)]\n",
    "# run the pipeline\n",
    "doc = nlp(doc)\n",
    "# copy the predicted labels to doc.spans[\"sc\"]\n",
    "for span in doc.spans[\"entities\"]:\n",
    "    doc.spans[\"sc\"] += [Span(doc, span.start, span.end, label=\"PRED_\" + span.label_)]\n",
    "    \n",
    "# display the gold and predicted annotation with displacy\n",
    "colors = {\n",
    "    \"PRED_LOC\": \"#ABEAFF\", \"GOLD_LOC\": \"#42D1FF\",\n",
    "    \"PRED_GPE\": \"#FFABBA\", \"GOLD_GPE\": \"#DB536B\",\n",
    "    \"PRED_PER\": \"#F6C974\", \"GOLD_PER\": \"#FAB400\",\n",
    "    \"PRED_FAC\": \"#C87EAB\", \"GOLD_FAC\": \"#94356F\",\n",
    "    \"PRED_ORG\": \"#FFA06B\", \"GOLD_ORG\": \"#FF6A16\",\n",
    "    \"PRED_VEH\": \"#95C229\", \"GOLD_VEH\": \"#319621\",\n",
    "}\n",
    "render(doc, style=\"span\", options={\"colors\": colors}, jupyter=True)"
   ]
  },
  {
   "cell_type": "code",
   "execution_count": null,
   "id": "2afe77e1",
   "metadata": {},
   "outputs": [],
   "source": []
  }
 ],
 "metadata": {
  "kernelspec": {
   "display_name": "Python 3 (ipykernel)",
   "language": "python",
   "name": "python3"
  },
  "language_info": {
   "codemirror_mode": {
    "name": "ipython",
    "version": 3
   },
   "file_extension": ".py",
   "mimetype": "text/x-python",
   "name": "python",
   "nbconvert_exporter": "python",
   "pygments_lexer": "ipython3",
   "version": "3.8.10"
  }
 },
 "nbformat": 4,
 "nbformat_minor": 5
}
