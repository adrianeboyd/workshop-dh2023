{
 "cells": [
  {
   "cell_type": "markdown",
   "id": "41787f8b",
   "metadata": {},
   "source": [
    "Install spaCy:"
   ]
  },
  {
   "cell_type": "code",
   "execution_count": null,
   "id": "98a6f76a",
   "metadata": {},
   "outputs": [],
   "source": [
    "!python -m pip install spacy==3.6.0.dev1 --quiet"
   ]
  },
  {
   "cell_type": "markdown",
   "id": "e40a00ee",
   "metadata": {},
   "source": [
    "Clone project repository and install requirements:"
   ]
  },
  {
   "cell_type": "code",
   "execution_count": null,
   "id": "b9496e64",
   "metadata": {},
   "outputs": [],
   "source": [
    "%cd\n",
    "!python -m spacy project clone unsilence -r https://github.com/adrianeboyd/workshop-dh2023\n",
    "%cd unsilence\n",
    "!python -m pip install -r requirements.txt"
   ]
  },
  {
   "cell_type": "code",
   "execution_count": null,
   "id": "17fae3a1",
   "metadata": {},
   "outputs": [],
   "source": [
    "!python -m spacy project run download-vectors"
   ]
  },
  {
   "cell_type": "markdown",
   "id": "e16ea91c",
   "metadata": {},
   "source": [
    "Use `spacy debug data` to get an overview of the corpus annotation:"
   ]
  },
  {
   "cell_type": "code",
   "execution_count": null,
   "id": "fc3a9830",
   "metadata": {},
   "outputs": [],
   "source": [
    "!python -m spacy debug data configs/spancat.cfg --paths.train corpus/train-nl.spans.spacy --paths.dev corpus/dev-nl.spans.spacy"
   ]
  },
  {
   "cell_type": "code",
   "execution_count": null,
   "id": "b84f2b58",
   "metadata": {},
   "outputs": [],
   "source": [
    "import spacy\n",
    "from spacy.displacy import render\n",
    "from spacy.tokens import DocBin\n",
    "nlp = spacy.blank(\"nl\")"
   ]
  },
  {
   "cell_type": "markdown",
   "id": "0a66497d",
   "metadata": {},
   "source": [
    "Reload this cell to start again at the first doc:"
   ]
  },
  {
   "cell_type": "code",
   "execution_count": null,
   "id": "1f5ff348",
   "metadata": {},
   "outputs": [],
   "source": [
    "docs = DocBin().from_disk(\"corpus/train-nl.spans.spacy\").get_docs(nlp.vocab)"
   ]
  },
  {
   "cell_type": "markdown",
   "id": "b5ff83df",
   "metadata": {},
   "source": [
    "Reload the following cell to step through the docs in the dataset:"
   ]
  },
  {
   "cell_type": "code",
   "execution_count": null,
   "id": "75e5d81e",
   "metadata": {},
   "outputs": [],
   "source": [
    "# displacy the gold annotation with displacy\n",
    "doc = next(docs)\n",
    "colors = {\"Person\": \"deepskyblue\", \"Organization\": \"red\", \"Place\": \"limegreen\"}\n",
    "render(doc, style=\"span\", options={\"spans_key\": \"NE-MAIN\", \"colors\": colors}, jupyter=True)"
   ]
  },
  {
   "cell_type": "code",
   "execution_count": null,
   "id": "a9e8e307",
   "metadata": {},
   "outputs": [],
   "source": []
  }
 ],
 "metadata": {
  "kernelspec": {
   "display_name": "Python 3 (ipykernel)",
   "language": "python",
   "name": "python3"
  },
  "language_info": {
   "codemirror_mode": {
    "name": "ipython",
    "version": 3
   },
   "file_extension": ".py",
   "mimetype": "text/x-python",
   "name": "python",
   "nbconvert_exporter": "python",
   "pygments_lexer": "ipython3",
   "version": "3.8.10"
  }
 },
 "nbformat": 4,
 "nbformat_minor": 5
}
