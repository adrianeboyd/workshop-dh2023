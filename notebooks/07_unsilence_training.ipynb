{
 "cells": [
  {
   "cell_type": "code",
   "execution_count": 1,
   "id": "3deffeb1-c194-48a3-9b21-e80150fafdac",
   "metadata": {},
   "outputs": [],
   "source": [
    "!python -m pip install spacy==3.6.0.dev1 --quiet"
   ]
  },
  {
   "cell_type": "code",
   "execution_count": 2,
   "id": "7af400df-0956-4699-9721-11405007feb4",
   "metadata": {},
   "outputs": [
    {
     "name": "stdout",
     "output_type": "stream",
     "text": [
      "/home/adriane\n",
      "\u001b[38;5;2m✔ Cloned 'unsilence' from 'adrianeboyd/workshop-dh2023' (branch\n",
      "'main')\u001b[0m\n",
      "/home/adriane/unsilence\n",
      "\u001b[38;5;2m✔ Your project is now ready!\u001b[0m\n",
      "To fetch the assets, run:\n",
      "python -m spacy project assets /home/adriane/unsilence\n",
      "/home/adriane/unsilence\n",
      "Requirement already satisfied: spacy<4.0.0,>=3.6.0.dev1 in /home/adriane/spacy/venv/dh2023/lib/python3.8/site-packages (from -r requirements.txt (line 1)) (3.6.0.dev1)\n",
      "Requirement already satisfied: spacy-transformers<1.3.0,>=1.2.0 in /home/adriane/spacy/venv/dh2023/lib/python3.8/site-packages (from -r requirements.txt (line 2)) (1.2.3)\n",
      "Requirement already satisfied: spacy-legacy<3.1.0,>=3.0.11 in /home/adriane/spacy/venv/dh2023/lib/python3.8/site-packages (from spacy<4.0.0,>=3.6.0.dev1->-r requirements.txt (line 1)) (3.0.12)\n",
      "Requirement already satisfied: spacy-loggers<2.0.0,>=1.0.0 in /home/adriane/spacy/venv/dh2023/lib/python3.8/site-packages (from spacy<4.0.0,>=3.6.0.dev1->-r requirements.txt (line 1)) (1.0.4)\n",
      "Requirement already satisfied: murmurhash<1.1.0,>=0.28.0 in /home/adriane/spacy/venv/dh2023/lib/python3.8/site-packages (from spacy<4.0.0,>=3.6.0.dev1->-r requirements.txt (line 1)) (1.0.9)\n",
      "Requirement already satisfied: cymem<2.1.0,>=2.0.2 in /home/adriane/spacy/venv/dh2023/lib/python3.8/site-packages (from spacy<4.0.0,>=3.6.0.dev1->-r requirements.txt (line 1)) (2.0.7)\n",
      "Requirement already satisfied: preshed<3.1.0,>=3.0.2 in /home/adriane/spacy/venv/dh2023/lib/python3.8/site-packages (from spacy<4.0.0,>=3.6.0.dev1->-r requirements.txt (line 1)) (3.0.8)\n",
      "Requirement already satisfied: thinc<8.2.0,>=8.1.8 in /home/adriane/spacy/venv/dh2023/lib/python3.8/site-packages (from spacy<4.0.0,>=3.6.0.dev1->-r requirements.txt (line 1)) (8.1.10)\n",
      "Requirement already satisfied: wasabi<1.2.0,>=0.9.1 in /home/adriane/spacy/venv/dh2023/lib/python3.8/site-packages (from spacy<4.0.0,>=3.6.0.dev1->-r requirements.txt (line 1)) (1.1.1)\n",
      "Requirement already satisfied: srsly<3.0.0,>=2.4.3 in /home/adriane/spacy/venv/dh2023/lib/python3.8/site-packages (from spacy<4.0.0,>=3.6.0.dev1->-r requirements.txt (line 1)) (2.4.6)\n",
      "Requirement already satisfied: catalogue<2.1.0,>=2.0.6 in /home/adriane/spacy/venv/dh2023/lib/python3.8/site-packages (from spacy<4.0.0,>=3.6.0.dev1->-r requirements.txt (line 1)) (2.0.8)\n",
      "Requirement already satisfied: typer<0.10.0,>=0.3.0 in /home/adriane/spacy/venv/dh2023/lib/python3.8/site-packages (from spacy<4.0.0,>=3.6.0.dev1->-r requirements.txt (line 1)) (0.7.0)\n",
      "Requirement already satisfied: pathy>=0.10.0 in /home/adriane/spacy/venv/dh2023/lib/python3.8/site-packages (from spacy<4.0.0,>=3.6.0.dev1->-r requirements.txt (line 1)) (0.10.1)\n",
      "Requirement already satisfied: smart-open<7.0.0,>=5.2.1 in /home/adriane/spacy/venv/dh2023/lib/python3.8/site-packages (from spacy<4.0.0,>=3.6.0.dev1->-r requirements.txt (line 1)) (6.3.0)\n",
      "Requirement already satisfied: tqdm<5.0.0,>=4.38.0 in /home/adriane/spacy/venv/dh2023/lib/python3.8/site-packages (from spacy<4.0.0,>=3.6.0.dev1->-r requirements.txt (line 1)) (4.65.0)\n",
      "Requirement already satisfied: numpy>=1.15.0 in /home/adriane/spacy/venv/dh2023/lib/python3.8/site-packages (from spacy<4.0.0,>=3.6.0.dev1->-r requirements.txt (line 1)) (1.24.3)\n",
      "Requirement already satisfied: requests<3.0.0,>=2.13.0 in /home/adriane/spacy/venv/dh2023/lib/python3.8/site-packages (from spacy<4.0.0,>=3.6.0.dev1->-r requirements.txt (line 1)) (2.30.0)\n",
      "Requirement already satisfied: pydantic!=1.8,!=1.8.1,<1.11.0,>=1.7.4 in /home/adriane/spacy/venv/dh2023/lib/python3.8/site-packages (from spacy<4.0.0,>=3.6.0.dev1->-r requirements.txt (line 1)) (1.10.7)\n",
      "Requirement already satisfied: jinja2 in /home/adriane/spacy/venv/dh2023/lib/python3.8/site-packages (from spacy<4.0.0,>=3.6.0.dev1->-r requirements.txt (line 1)) (3.1.2)\n",
      "Requirement already satisfied: setuptools in /home/adriane/spacy/venv/dh2023/lib/python3.8/site-packages (from spacy<4.0.0,>=3.6.0.dev1->-r requirements.txt (line 1)) (67.8.0)\n",
      "Requirement already satisfied: packaging>=20.0 in /home/adriane/spacy/venv/dh2023/lib/python3.8/site-packages (from spacy<4.0.0,>=3.6.0.dev1->-r requirements.txt (line 1)) (23.1)\n",
      "Requirement already satisfied: langcodes<4.0.0,>=3.2.0 in /home/adriane/spacy/venv/dh2023/lib/python3.8/site-packages (from spacy<4.0.0,>=3.6.0.dev1->-r requirements.txt (line 1)) (3.3.0)\n",
      "Requirement already satisfied: transformers<4.29.0,>=3.4.0 in /home/adriane/spacy/venv/dh2023/lib/python3.8/site-packages (from spacy-transformers<1.3.0,>=1.2.0->-r requirements.txt (line 2)) (4.28.1)\n",
      "Requirement already satisfied: torch>=1.8.0 in /home/adriane/spacy/venv/dh2023/lib/python3.8/site-packages (from spacy-transformers<1.3.0,>=1.2.0->-r requirements.txt (line 2)) (2.0.1)\n",
      "Requirement already satisfied: spacy-alignments<1.0.0,>=0.7.2 in /home/adriane/spacy/venv/dh2023/lib/python3.8/site-packages (from spacy-transformers<1.3.0,>=1.2.0->-r requirements.txt (line 2)) (0.9.0)\n",
      "Requirement already satisfied: typing-extensions>=4.2.0 in /home/adriane/spacy/venv/dh2023/lib/python3.8/site-packages (from pydantic!=1.8,!=1.8.1,<1.11.0,>=1.7.4->spacy<4.0.0,>=3.6.0.dev1->-r requirements.txt (line 1)) (4.5.0)\n",
      "Requirement already satisfied: charset-normalizer<4,>=2 in /home/adriane/spacy/venv/dh2023/lib/python3.8/site-packages (from requests<3.0.0,>=2.13.0->spacy<4.0.0,>=3.6.0.dev1->-r requirements.txt (line 1)) (3.1.0)\n",
      "Requirement already satisfied: idna<4,>=2.5 in /home/adriane/spacy/venv/dh2023/lib/python3.8/site-packages (from requests<3.0.0,>=2.13.0->spacy<4.0.0,>=3.6.0.dev1->-r requirements.txt (line 1)) (3.4)\n",
      "Requirement already satisfied: urllib3<3,>=1.21.1 in /home/adriane/spacy/venv/dh2023/lib/python3.8/site-packages (from requests<3.0.0,>=2.13.0->spacy<4.0.0,>=3.6.0.dev1->-r requirements.txt (line 1)) (2.0.2)\n",
      "Requirement already satisfied: certifi>=2017.4.17 in /home/adriane/spacy/venv/dh2023/lib/python3.8/site-packages (from requests<3.0.0,>=2.13.0->spacy<4.0.0,>=3.6.0.dev1->-r requirements.txt (line 1)) (2023.5.7)\n",
      "Requirement already satisfied: blis<0.8.0,>=0.7.8 in /home/adriane/spacy/venv/dh2023/lib/python3.8/site-packages (from thinc<8.2.0,>=8.1.8->spacy<4.0.0,>=3.6.0.dev1->-r requirements.txt (line 1)) (0.7.9)\n",
      "Requirement already satisfied: confection<1.0.0,>=0.0.1 in /home/adriane/spacy/venv/dh2023/lib/python3.8/site-packages (from thinc<8.2.0,>=8.1.8->spacy<4.0.0,>=3.6.0.dev1->-r requirements.txt (line 1)) (0.0.4)\n",
      "Requirement already satisfied: filelock in /home/adriane/spacy/venv/dh2023/lib/python3.8/site-packages (from torch>=1.8.0->spacy-transformers<1.3.0,>=1.2.0->-r requirements.txt (line 2)) (3.12.0)\n",
      "Requirement already satisfied: sympy in /home/adriane/spacy/venv/dh2023/lib/python3.8/site-packages (from torch>=1.8.0->spacy-transformers<1.3.0,>=1.2.0->-r requirements.txt (line 2)) (1.12)\n",
      "Requirement already satisfied: networkx in /home/adriane/spacy/venv/dh2023/lib/python3.8/site-packages (from torch>=1.8.0->spacy-transformers<1.3.0,>=1.2.0->-r requirements.txt (line 2)) (3.1)\n",
      "Requirement already satisfied: nvidia-cuda-nvrtc-cu11==11.7.99 in /home/adriane/spacy/venv/dh2023/lib/python3.8/site-packages (from torch>=1.8.0->spacy-transformers<1.3.0,>=1.2.0->-r requirements.txt (line 2)) (11.7.99)\n",
      "Requirement already satisfied: nvidia-cuda-runtime-cu11==11.7.99 in /home/adriane/spacy/venv/dh2023/lib/python3.8/site-packages (from torch>=1.8.0->spacy-transformers<1.3.0,>=1.2.0->-r requirements.txt (line 2)) (11.7.99)\n",
      "Requirement already satisfied: nvidia-cuda-cupti-cu11==11.7.101 in /home/adriane/spacy/venv/dh2023/lib/python3.8/site-packages (from torch>=1.8.0->spacy-transformers<1.3.0,>=1.2.0->-r requirements.txt (line 2)) (11.7.101)\n",
      "Requirement already satisfied: nvidia-cudnn-cu11==8.5.0.96 in /home/adriane/spacy/venv/dh2023/lib/python3.8/site-packages (from torch>=1.8.0->spacy-transformers<1.3.0,>=1.2.0->-r requirements.txt (line 2)) (8.5.0.96)\n",
      "Requirement already satisfied: nvidia-cublas-cu11==11.10.3.66 in /home/adriane/spacy/venv/dh2023/lib/python3.8/site-packages (from torch>=1.8.0->spacy-transformers<1.3.0,>=1.2.0->-r requirements.txt (line 2)) (11.10.3.66)\n",
      "Requirement already satisfied: nvidia-cufft-cu11==10.9.0.58 in /home/adriane/spacy/venv/dh2023/lib/python3.8/site-packages (from torch>=1.8.0->spacy-transformers<1.3.0,>=1.2.0->-r requirements.txt (line 2)) (10.9.0.58)\n",
      "Requirement already satisfied: nvidia-curand-cu11==10.2.10.91 in /home/adriane/spacy/venv/dh2023/lib/python3.8/site-packages (from torch>=1.8.0->spacy-transformers<1.3.0,>=1.2.0->-r requirements.txt (line 2)) (10.2.10.91)\n",
      "Requirement already satisfied: nvidia-cusolver-cu11==11.4.0.1 in /home/adriane/spacy/venv/dh2023/lib/python3.8/site-packages (from torch>=1.8.0->spacy-transformers<1.3.0,>=1.2.0->-r requirements.txt (line 2)) (11.4.0.1)\n",
      "Requirement already satisfied: nvidia-cusparse-cu11==11.7.4.91 in /home/adriane/spacy/venv/dh2023/lib/python3.8/site-packages (from torch>=1.8.0->spacy-transformers<1.3.0,>=1.2.0->-r requirements.txt (line 2)) (11.7.4.91)\n",
      "Requirement already satisfied: nvidia-nccl-cu11==2.14.3 in /home/adriane/spacy/venv/dh2023/lib/python3.8/site-packages (from torch>=1.8.0->spacy-transformers<1.3.0,>=1.2.0->-r requirements.txt (line 2)) (2.14.3)\n",
      "Requirement already satisfied: nvidia-nvtx-cu11==11.7.91 in /home/adriane/spacy/venv/dh2023/lib/python3.8/site-packages (from torch>=1.8.0->spacy-transformers<1.3.0,>=1.2.0->-r requirements.txt (line 2)) (11.7.91)\n"
     ]
    },
    {
     "name": "stdout",
     "output_type": "stream",
     "text": [
      "Requirement already satisfied: triton==2.0.0 in /home/adriane/spacy/venv/dh2023/lib/python3.8/site-packages (from torch>=1.8.0->spacy-transformers<1.3.0,>=1.2.0->-r requirements.txt (line 2)) (2.0.0)\n",
      "Requirement already satisfied: wheel in /home/adriane/spacy/venv/dh2023/lib/python3.8/site-packages (from nvidia-cublas-cu11==11.10.3.66->torch>=1.8.0->spacy-transformers<1.3.0,>=1.2.0->-r requirements.txt (line 2)) (0.40.0)\n",
      "Requirement already satisfied: cmake in /home/adriane/spacy/venv/dh2023/lib/python3.8/site-packages (from triton==2.0.0->torch>=1.8.0->spacy-transformers<1.3.0,>=1.2.0->-r requirements.txt (line 2)) (3.26.3)\n",
      "Requirement already satisfied: lit in /home/adriane/spacy/venv/dh2023/lib/python3.8/site-packages (from triton==2.0.0->torch>=1.8.0->spacy-transformers<1.3.0,>=1.2.0->-r requirements.txt (line 2)) (16.0.5)\n",
      "Requirement already satisfied: huggingface-hub<1.0,>=0.11.0 in /home/adriane/spacy/venv/dh2023/lib/python3.8/site-packages (from transformers<4.29.0,>=3.4.0->spacy-transformers<1.3.0,>=1.2.0->-r requirements.txt (line 2)) (0.14.1)\n",
      "Requirement already satisfied: pyyaml>=5.1 in /home/adriane/spacy/venv/dh2023/lib/python3.8/site-packages (from transformers<4.29.0,>=3.4.0->spacy-transformers<1.3.0,>=1.2.0->-r requirements.txt (line 2)) (6.0)\n",
      "Requirement already satisfied: regex!=2019.12.17 in /home/adriane/spacy/venv/dh2023/lib/python3.8/site-packages (from transformers<4.29.0,>=3.4.0->spacy-transformers<1.3.0,>=1.2.0->-r requirements.txt (line 2)) (2023.5.5)\n",
      "Requirement already satisfied: tokenizers!=0.11.3,<0.14,>=0.11.1 in /home/adriane/spacy/venv/dh2023/lib/python3.8/site-packages (from transformers<4.29.0,>=3.4.0->spacy-transformers<1.3.0,>=1.2.0->-r requirements.txt (line 2)) (0.13.3)\n",
      "Requirement already satisfied: click<9.0.0,>=7.1.1 in /home/adriane/spacy/venv/dh2023/lib/python3.8/site-packages (from typer<0.10.0,>=0.3.0->spacy<4.0.0,>=3.6.0.dev1->-r requirements.txt (line 1)) (8.1.3)\n",
      "Requirement already satisfied: MarkupSafe>=2.0 in /home/adriane/spacy/venv/dh2023/lib/python3.8/site-packages (from jinja2->spacy<4.0.0,>=3.6.0.dev1->-r requirements.txt (line 1)) (2.1.2)\n",
      "Requirement already satisfied: fsspec in /home/adriane/spacy/venv/dh2023/lib/python3.8/site-packages (from huggingface-hub<1.0,>=0.11.0->transformers<4.29.0,>=3.4.0->spacy-transformers<1.3.0,>=1.2.0->-r requirements.txt (line 2)) (2023.5.0)\n",
      "Requirement already satisfied: mpmath>=0.19 in /home/adriane/spacy/venv/dh2023/lib/python3.8/site-packages (from sympy->torch>=1.8.0->spacy-transformers<1.3.0,>=1.2.0->-r requirements.txt (line 2)) (1.3.0)\n"
     ]
    }
   ],
   "source": [
    "%cd\n",
    "!python -m spacy project clone unsilence -r https://github.com/adrianeboyd/workshop-dh2023\n",
    "%cd unsilence\n",
    "!python -m pip install -r requirements.txt --quiet"
   ]
  },
  {
   "cell_type": "code",
   "execution_count": 3,
   "id": "7dd0131a-ed30-43e9-9b36-04bf844d23a7",
   "metadata": {},
   "outputs": [
    {
     "name": "stdout",
     "output_type": "stream",
     "text": [
      "\u001b[38;5;4mℹ Fetching 1 asset(s)\u001b[0m\n",
      "\u001b[38;5;2m✔ Downloaded asset /home/adriane/unsilence/assets/UnSilence_VOC\u001b[0m\n"
     ]
    }
   ],
   "source": [
    "!python -m spacy project assets"
   ]
  },
  {
   "cell_type": "code",
   "execution_count": 4,
   "id": "3bf546d4-c008-4de0-97a8-6d8a074c27d5",
   "metadata": {},
   "outputs": [
    {
     "name": "stdout",
     "output_type": "stream",
     "text": [
      "\r\n",
      "Train NER/spancat on UnSilence VOC\r\n",
      "\r\n",
      "Available commands in project.yml\r\n",
      "Usage: python -m spacy project run [COMMAND] \r\n",
      "\r\n",
      "download-vectors                Download and install Dutch floret vectors\r\n",
      "convert-data-ner                Prepare the NER per type data for spaCy\r\n",
      "convert-data-spans              Prepare the spans data for spaCy\r\n",
      "train-ner                       Train NER per-type pipelines. \r\n",
      "train-ner-trf                   Train NER TRF per type.       \r\n",
      "evaluate-ner                                                  \r\n",
      "train-spancat                   Train the default spancat pipeline.\r\n",
      "train-spancat-trf               Train spancat TRF             \r\n",
      "evaluate-spancat                                              \r\n",
      "train-span-finder-spancat       Train the span finder spancat pipeline.\r\n",
      "train-span-finder-spancat-trf   Train the span finder spancat pipeline.\r\n",
      "evaluate-span-finder-spancat                                  \r\n",
      "\r\n",
      "Available workflows in project.yml\r\n",
      "Usage: python -m spacy project run [WORKFLOW] \r\n",
      "\r\n",
      "download              download-vectors              \r\n",
      "convert               convert-data-ner -> convert-data-spans\r\n",
      "ner                   train-ner -> train-ner-trf -> evaluate-ner\r\n",
      "ngram-spancat         train-spancat -> train-spancat-trf -> evaluate-spancat\r\n",
      "span-finder-spancat   train-span-finder-spancat -> train-span-finder-spancat-trf -> evaluate-span-finder-spancat\r\n",
      "\r\n"
     ]
    }
   ],
   "source": [
    "!python -m spacy project run --help"
   ]
  },
  {
   "cell_type": "code",
   "execution_count": 5,
   "id": "617ff29f-e40f-421a-98b6-93de07c7c0d9",
   "metadata": {},
   "outputs": [
    {
     "name": "stdout",
     "output_type": "stream",
     "text": [
      "\u001b[38;5;4mℹ Running workflow 'download'\u001b[0m\n",
      "\u001b[1m\n",
      "============================== download-vectors ==============================\u001b[0m\n",
      "Running command: /home/adriane/spacy/venv/dh2023/bin/python -m pip install https://github.com/explosion/spacy-vectors-builder/releases/download/nl-dh2023-v0.0.1/nl_vectors_floret_lg-0.0.2-py3-none-any.whl\n",
      "Collecting nl-vectors-floret-lg==0.0.2\n",
      "  Downloading https://github.com/explosion/spacy-vectors-builder/releases/download/nl-dh2023-v0.0.1/nl_vectors_floret_lg-0.0.2-py3-none-any.whl (217.7 MB)\n",
      "\u001b[2K     \u001b[38;2;114;156;31m━━━━━━━━━━━━━━━━━━━━━━━━━━━━━━━━━━━━━━━\u001b[0m \u001b[32m217.7/217.7 MB\u001b[0m \u001b[31m2.7 MB/s\u001b[0m eta \u001b[36m0:00:00\u001b[0mm eta \u001b[36m0:00:01\u001b[0m[36m0:00:01\u001b[0m\n",
      "\u001b[?25hRequirement already satisfied: spacy<4.0.0,>=3.5.0 in /home/adriane/spacy/venv/dh2023/lib/python3.8/site-packages (from nl-vectors-floret-lg==0.0.2) (3.6.0.dev1)\n",
      "Requirement already satisfied: spacy-legacy<3.1.0,>=3.0.11 in /home/adriane/spacy/venv/dh2023/lib/python3.8/site-packages (from spacy<4.0.0,>=3.5.0->nl-vectors-floret-lg==0.0.2) (3.0.12)\n",
      "Requirement already satisfied: spacy-loggers<2.0.0,>=1.0.0 in /home/adriane/spacy/venv/dh2023/lib/python3.8/site-packages (from spacy<4.0.0,>=3.5.0->nl-vectors-floret-lg==0.0.2) (1.0.4)\n",
      "Requirement already satisfied: murmurhash<1.1.0,>=0.28.0 in /home/adriane/spacy/venv/dh2023/lib/python3.8/site-packages (from spacy<4.0.0,>=3.5.0->nl-vectors-floret-lg==0.0.2) (1.0.9)\n",
      "Requirement already satisfied: cymem<2.1.0,>=2.0.2 in /home/adriane/spacy/venv/dh2023/lib/python3.8/site-packages (from spacy<4.0.0,>=3.5.0->nl-vectors-floret-lg==0.0.2) (2.0.7)\n",
      "Requirement already satisfied: preshed<3.1.0,>=3.0.2 in /home/adriane/spacy/venv/dh2023/lib/python3.8/site-packages (from spacy<4.0.0,>=3.5.0->nl-vectors-floret-lg==0.0.2) (3.0.8)\n",
      "Requirement already satisfied: thinc<8.2.0,>=8.1.8 in /home/adriane/spacy/venv/dh2023/lib/python3.8/site-packages (from spacy<4.0.0,>=3.5.0->nl-vectors-floret-lg==0.0.2) (8.1.10)\n",
      "Requirement already satisfied: wasabi<1.2.0,>=0.9.1 in /home/adriane/spacy/venv/dh2023/lib/python3.8/site-packages (from spacy<4.0.0,>=3.5.0->nl-vectors-floret-lg==0.0.2) (1.1.1)\n",
      "Requirement already satisfied: srsly<3.0.0,>=2.4.3 in /home/adriane/spacy/venv/dh2023/lib/python3.8/site-packages (from spacy<4.0.0,>=3.5.0->nl-vectors-floret-lg==0.0.2) (2.4.6)\n",
      "Requirement already satisfied: catalogue<2.1.0,>=2.0.6 in /home/adriane/spacy/venv/dh2023/lib/python3.8/site-packages (from spacy<4.0.0,>=3.5.0->nl-vectors-floret-lg==0.0.2) (2.0.8)\n",
      "Requirement already satisfied: typer<0.10.0,>=0.3.0 in /home/adriane/spacy/venv/dh2023/lib/python3.8/site-packages (from spacy<4.0.0,>=3.5.0->nl-vectors-floret-lg==0.0.2) (0.7.0)\n",
      "Requirement already satisfied: pathy>=0.10.0 in /home/adriane/spacy/venv/dh2023/lib/python3.8/site-packages (from spacy<4.0.0,>=3.5.0->nl-vectors-floret-lg==0.0.2) (0.10.1)\n",
      "Requirement already satisfied: smart-open<7.0.0,>=5.2.1 in /home/adriane/spacy/venv/dh2023/lib/python3.8/site-packages (from spacy<4.0.0,>=3.5.0->nl-vectors-floret-lg==0.0.2) (6.3.0)\n",
      "Requirement already satisfied: tqdm<5.0.0,>=4.38.0 in /home/adriane/spacy/venv/dh2023/lib/python3.8/site-packages (from spacy<4.0.0,>=3.5.0->nl-vectors-floret-lg==0.0.2) (4.65.0)\n",
      "Requirement already satisfied: numpy>=1.15.0 in /home/adriane/spacy/venv/dh2023/lib/python3.8/site-packages (from spacy<4.0.0,>=3.5.0->nl-vectors-floret-lg==0.0.2) (1.24.3)\n",
      "Requirement already satisfied: requests<3.0.0,>=2.13.0 in /home/adriane/spacy/venv/dh2023/lib/python3.8/site-packages (from spacy<4.0.0,>=3.5.0->nl-vectors-floret-lg==0.0.2) (2.30.0)\n",
      "Requirement already satisfied: pydantic!=1.8,!=1.8.1,<1.11.0,>=1.7.4 in /home/adriane/spacy/venv/dh2023/lib/python3.8/site-packages (from spacy<4.0.0,>=3.5.0->nl-vectors-floret-lg==0.0.2) (1.10.7)\n",
      "Requirement already satisfied: jinja2 in /home/adriane/spacy/venv/dh2023/lib/python3.8/site-packages (from spacy<4.0.0,>=3.5.0->nl-vectors-floret-lg==0.0.2) (3.1.2)\n",
      "Requirement already satisfied: setuptools in /home/adriane/spacy/venv/dh2023/lib/python3.8/site-packages (from spacy<4.0.0,>=3.5.0->nl-vectors-floret-lg==0.0.2) (67.8.0)\n",
      "Requirement already satisfied: packaging>=20.0 in /home/adriane/spacy/venv/dh2023/lib/python3.8/site-packages (from spacy<4.0.0,>=3.5.0->nl-vectors-floret-lg==0.0.2) (23.1)\n",
      "Requirement already satisfied: langcodes<4.0.0,>=3.2.0 in /home/adriane/spacy/venv/dh2023/lib/python3.8/site-packages (from spacy<4.0.0,>=3.5.0->nl-vectors-floret-lg==0.0.2) (3.3.0)\n",
      "Requirement already satisfied: typing-extensions>=4.2.0 in /home/adriane/spacy/venv/dh2023/lib/python3.8/site-packages (from pydantic!=1.8,!=1.8.1,<1.11.0,>=1.7.4->spacy<4.0.0,>=3.5.0->nl-vectors-floret-lg==0.0.2) (4.5.0)\n",
      "Requirement already satisfied: charset-normalizer<4,>=2 in /home/adriane/spacy/venv/dh2023/lib/python3.8/site-packages (from requests<3.0.0,>=2.13.0->spacy<4.0.0,>=3.5.0->nl-vectors-floret-lg==0.0.2) (3.1.0)\n",
      "Requirement already satisfied: idna<4,>=2.5 in /home/adriane/spacy/venv/dh2023/lib/python3.8/site-packages (from requests<3.0.0,>=2.13.0->spacy<4.0.0,>=3.5.0->nl-vectors-floret-lg==0.0.2) (3.4)\n",
      "Requirement already satisfied: urllib3<3,>=1.21.1 in /home/adriane/spacy/venv/dh2023/lib/python3.8/site-packages (from requests<3.0.0,>=2.13.0->spacy<4.0.0,>=3.5.0->nl-vectors-floret-lg==0.0.2) (2.0.2)\n",
      "Requirement already satisfied: certifi>=2017.4.17 in /home/adriane/spacy/venv/dh2023/lib/python3.8/site-packages (from requests<3.0.0,>=2.13.0->spacy<4.0.0,>=3.5.0->nl-vectors-floret-lg==0.0.2) (2023.5.7)\n",
      "Requirement already satisfied: blis<0.8.0,>=0.7.8 in /home/adriane/spacy/venv/dh2023/lib/python3.8/site-packages (from thinc<8.2.0,>=8.1.8->spacy<4.0.0,>=3.5.0->nl-vectors-floret-lg==0.0.2) (0.7.9)\n",
      "Requirement already satisfied: confection<1.0.0,>=0.0.1 in /home/adriane/spacy/venv/dh2023/lib/python3.8/site-packages (from thinc<8.2.0,>=8.1.8->spacy<4.0.0,>=3.5.0->nl-vectors-floret-lg==0.0.2) (0.0.4)\n",
      "Requirement already satisfied: click<9.0.0,>=7.1.1 in /home/adriane/spacy/venv/dh2023/lib/python3.8/site-packages (from typer<0.10.0,>=0.3.0->spacy<4.0.0,>=3.5.0->nl-vectors-floret-lg==0.0.2) (8.1.3)\n",
      "Requirement already satisfied: MarkupSafe>=2.0 in /home/adriane/spacy/venv/dh2023/lib/python3.8/site-packages (from jinja2->spacy<4.0.0,>=3.5.0->nl-vectors-floret-lg==0.0.2) (2.1.2)\n"
     ]
    }
   ],
   "source": [
    "!python -m spacy project run download"
   ]
  },
  {
   "cell_type": "code",
   "execution_count": 6,
   "id": "eb6f007e-2051-4a89-b241-928b13a56fb5",
   "metadata": {},
   "outputs": [
    {
     "name": "stdout",
     "output_type": "stream",
     "text": [
      "\u001b[38;5;4mℹ Running workflow 'convert'\u001b[0m\n",
      "\u001b[1m\n",
      "============================== convert-data-ner ==============================\u001b[0m\n",
      "Running command: /home/adriane/spacy/venv/dh2023/bin/python scripts/convert.py assets/UnSilence_VOC/processed_data/train-nl.tsv NE-MAIN Person -o corpus/train-nl.ents.Person.spacy\n",
      "⠦ Saving into DocBin...\u001b[38;5;2m✔ Saved to corpus/train-nl.ents.Person.spacy\u001b[0m\n",
      "\u001b[2KRunning command: /home/adriane/spacy/venv/dh2023/bin/python scripts/convert.py assets/UnSilence_VOC/processed_data/dev-nl.tsv NE-MAIN Person -o corpus/dev-nl.ents.Person.spacy\n",
      "⠙ Saving into DocBin...\u001b[38;5;2m✔ Saved to corpus/dev-nl.ents.Person.spacy\u001b[0m\n",
      "\u001b[2KRunning command: /home/adriane/spacy/venv/dh2023/bin/python scripts/convert.py assets/UnSilence_VOC/processed_data/test-nl.tsv NE-MAIN Person -o corpus/test-nl.ents.Person.spacy\n",
      "⠸ Saving into DocBin...\u001b[38;5;2m✔ Saved to corpus/test-nl.ents.Person.spacy\u001b[0m\n",
      "\u001b[2KRunning command: /home/adriane/spacy/venv/dh2023/bin/python scripts/convert.py assets/UnSilence_VOC/processed_data/train-nl.tsv NE-MAIN Place -o corpus/train-nl.ents.Place.spacy\n",
      "⠦ Saving into DocBin...\u001b[38;5;2m✔ Saved to corpus/train-nl.ents.Place.spacy\u001b[0m\n",
      "\u001b[2KRunning command: /home/adriane/spacy/venv/dh2023/bin/python scripts/convert.py assets/UnSilence_VOC/processed_data/dev-nl.tsv NE-MAIN Place -o corpus/dev-nl.ents.Place.spacy\n",
      "⠙ Saving into DocBin...\u001b[38;5;2m✔ Saved to corpus/dev-nl.ents.Place.spacy\u001b[0m\n",
      "\u001b[2KRunning command: /home/adriane/spacy/venv/dh2023/bin/python scripts/convert.py assets/UnSilence_VOC/processed_data/test-nl.tsv NE-MAIN Place -o corpus/test-nl.ents.Place.spacy\n",
      "⠸ Saving into DocBin...\u001b[38;5;2m✔ Saved to corpus/test-nl.ents.Place.spacy\u001b[0m\n",
      "\u001b[2KRunning command: /home/adriane/spacy/venv/dh2023/bin/python scripts/convert.py assets/UnSilence_VOC/processed_data/train-nl.tsv NE-MAIN Organization -o corpus/train-nl.ents.Organization.spacy\n",
      "⠦ Saving into DocBin...\u001b[38;5;2m✔ Saved to corpus/train-nl.ents.Organization.spacy\u001b[0m\n",
      "\u001b[2KRunning command: /home/adriane/spacy/venv/dh2023/bin/python scripts/convert.py assets/UnSilence_VOC/processed_data/dev-nl.tsv NE-MAIN Organization -o corpus/dev-nl.ents.Organization.spacy\n",
      "⠙ Saving into DocBin...\u001b[38;5;2m✔ Saved to corpus/dev-nl.ents.Organization.spacy\u001b[0m\n",
      "\u001b[2KRunning command: /home/adriane/spacy/venv/dh2023/bin/python scripts/convert.py assets/UnSilence_VOC/processed_data/test-nl.tsv NE-MAIN Organization -o corpus/test-nl.ents.Organization.spacy\n",
      "⠸ Saving into DocBin...\u001b[38;5;2m✔ Saved to corpus/test-nl.ents.Organization.spacy\u001b[0m\n",
      "\u001b[2K\u001b[1m\n",
      "============================= convert-data-spans =============================\u001b[0m\n",
      "Running command: /home/adriane/spacy/venv/dh2023/bin/python scripts/convert_all.py assets/UnSilence_VOC/processed_data/train-nl.tsv NE-MAIN -o corpus/train-nl.spans.spacy\n",
      "⠧ Saving into DocBin...\u001b[38;5;2m✔ Saved to corpus/train-nl.spans.spacy\u001b[0m\n",
      "\u001b[2KRunning command: /home/adriane/spacy/venv/dh2023/bin/python scripts/convert_all.py assets/UnSilence_VOC/processed_data/dev-nl.tsv NE-MAIN -o corpus/dev-nl.spans.spacy\n",
      "⠙ Saving into DocBin...\u001b[38;5;2m✔ Saved to corpus/dev-nl.spans.spacy\u001b[0m\n",
      "\u001b[2KRunning command: /home/adriane/spacy/venv/dh2023/bin/python scripts/convert_all.py assets/UnSilence_VOC/processed_data/test-nl.tsv NE-MAIN -o corpus/test-nl.spans.spacy\n",
      "⠸ Saving into DocBin...\u001b[38;5;2m✔ Saved to corpus/test-nl.spans.spacy\u001b[0m\n",
      "\u001b[2K"
     ]
    }
   ],
   "source": [
    "!python -m spacy project run convert"
   ]
  },
  {
   "cell_type": "code",
   "execution_count": null,
   "id": "569f7db3-efb1-44e1-972b-594535a3bc4e",
   "metadata": {},
   "outputs": [
    {
     "name": "stdout",
     "output_type": "stream",
     "text": [
      "\u001b[1m\n",
      "=============================== train-spancat ===============================\u001b[0m\n",
      "Running command: /home/adriane/spacy/venv/dh2023/bin/python -m spacy train configs/spancat.cfg --output training/spancat --paths.train corpus/train-nl.spans.spacy --paths.dev corpus/dev-nl.spans.spacy --system.seed 83 --gpu-id -1\n",
      "\u001b[38;5;2m✔ Created output directory: training/spancat\u001b[0m\n",
      "\u001b[38;5;4mℹ Saving to output directory: training/spancat\u001b[0m\n",
      "\u001b[38;5;4mℹ Using CPU\u001b[0m\n",
      "\u001b[38;5;4mℹ To switch to GPU 0, use the option: --gpu-id 0\u001b[0m\n",
      "\u001b[1m\n",
      "=========================== Initializing pipeline ===========================\u001b[0m\n",
      "[2023-06-29 13:48:37,858] [INFO] Set up nlp object from config\n",
      "[2023-06-29 13:48:37,868] [INFO] Pipeline: ['tok2vec', 'spancat']\n",
      "[2023-06-29 13:48:37,871] [INFO] Created vocabulary\n",
      "[2023-06-29 13:48:38,806] [INFO] Added vectors: nl_vectors_floret_lg\n",
      "[2023-06-29 13:48:38,806] [INFO] Finished initializing nlp object\n",
      "[2023-06-29 13:48:43,420] [INFO] Initialized pipeline components: ['tok2vec', 'spancat']\n",
      "\u001b[38;5;2m✔ Initialized pipeline\u001b[0m\n",
      "\u001b[1m\n",
      "============================= Training pipeline =============================\u001b[0m\n",
      "\u001b[38;5;4mℹ Pipeline: ['tok2vec', 'spancat']\u001b[0m\n",
      "\u001b[38;5;4mℹ Initial learn rate: 0.001\u001b[0m\n",
      "E    #       LOSS TOK2VEC  LOSS SPANCAT  SPANS_NE-M...  SPANS_NE-M...  SPANS_NE-M...  SCORE \n",
      "---  ------  ------------  ------------  -------------  -------------  -------------  ------\n",
      "  0       0        121.35       2799.48           0.76           0.40           6.80    0.01\n",
      "  0     200         27.48       2142.29           0.00           0.00           0.00    0.00\n",
      "  0     400          0.20       1720.13          16.63          68.27           9.47    0.17\n",
      "  0     600          0.86       1752.19          24.39          61.62          15.20    0.24\n",
      "  0     800          0.77       1321.51          30.61          62.55          20.27    0.31\n",
      "  0    1000          0.77       1284.02          38.30          46.56          32.53    0.38\n",
      "  0    1200          0.51       1204.07          29.41          69.31          18.67    0.29\n",
      "  0    1400          0.51       1293.46          41.74          68.60          30.00    0.42\n",
      "  0    1600          0.45       1124.16          45.94          66.58          35.07    0.46\n",
      "  1    1800          0.33       1100.85          45.68          65.99          34.93    0.46\n",
      "  1    2000          0.32       1144.31          48.89          63.87          39.60    0.49\n",
      "  1    2200          0.33       1141.51          48.39          66.59          38.00    0.48\n",
      "  1    2400          0.27       1063.61          52.01          70.14          41.33    0.52\n",
      "  1    2600          0.24       1081.14          36.57          84.54          23.33    0.37\n",
      "  1    2800          0.27       1128.54          50.44          73.97          38.27    0.50\n",
      "  1    3000          0.30       1130.26          53.12          65.24          44.80    0.53\n",
      "  1    3200          0.31       1196.98          50.51          70.14          39.47    0.51\n",
      "  2    3400          0.31       1368.24          52.24          69.08          42.00    0.52\n",
      "  2    3600          0.40       1582.27          53.97          65.83          45.73    0.54\n",
      "  2    3800          0.46       2071.18          54.06          71.49          43.47    0.54\n",
      "  2    4000          0.56       2628.06          55.72          68.28          47.07    0.56\n",
      "  3    4200          0.58       2526.00          55.30          65.22          48.00    0.55\n",
      "  3    4400          0.60       2520.82          56.44          72.69          46.13    0.56\n",
      "  4    4600          0.62       2384.83          54.04          67.47          45.07    0.54\n",
      "  4    4800          0.56       2186.06          54.59          68.90          45.20    0.55\n",
      "  5    5000          0.58       2368.69          55.41          67.89          46.80    0.55\n",
      "  5    5200          0.54       2007.44          54.74          64.90          47.33    0.55\n",
      "  5    5400          0.60       2093.83          55.30          67.30          46.93    0.55\n",
      "  6    5600          0.57       1997.00          54.65          70.38          44.67    0.55\n",
      "  6    5800          0.56       1971.04          53.44          62.50          46.67    0.53\n",
      "  7    6000          0.53       1996.87          57.98          68.74          50.13    0.58\n",
      "  7    6200          0.51       1847.59          55.04          67.91          46.27    0.55\n",
      "  7    6400          0.55       1807.70          51.98          68.18          42.00    0.52\n",
      "  8    6600          0.55       1786.19          53.64          64.07          46.13    0.54\n",
      "  8    6800          0.54       1759.90          55.03          63.53          48.53    0.55\n",
      "  9    7000          0.50       1711.10          54.37          62.46          48.13    0.54\n"
     ]
    }
   ],
   "source": [
    "!python -m spacy project run train-spancat\n",
    "# on GPU:\n",
    "# !python -m spacy project run train-spancat --vars.gpu 0"
   ]
  }
 ],
 "metadata": {
  "kernelspec": {
   "display_name": "Python 3 (ipykernel)",
   "language": "python",
   "name": "python3"
  },
  "language_info": {
   "codemirror_mode": {
    "name": "ipython",
    "version": 3
   },
   "file_extension": ".py",
   "mimetype": "text/x-python",
   "name": "python",
   "nbconvert_exporter": "python",
   "pygments_lexer": "ipython3",
   "version": "3.8.10"
  }
 },
 "nbformat": 4,
 "nbformat_minor": 5
}
