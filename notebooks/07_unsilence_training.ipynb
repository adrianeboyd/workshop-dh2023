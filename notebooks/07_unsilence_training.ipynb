{
 "cells": [
  {
   "cell_type": "code",
   "execution_count": null,
   "id": "3deffeb1-c194-48a3-9b21-e80150fafdac",
   "metadata": {},
   "outputs": [],
   "source": [
    "!python -m pip install spacy==3.6.0.dev1 --quiet"
   ]
  },
  {
   "cell_type": "code",
   "execution_count": null,
   "id": "7af400df-0956-4699-9721-11405007feb4",
   "metadata": {},
   "outputs": [],
   "source": [
    "# clone project and install requirements\n",
    "\n",
    "# edit the line below to choose a different working directory\n",
    "%cd\n",
    "\n",
    "!python -m spacy project clone unsilence -r https://github.com/adrianeboyd/workshop-dh2023\n",
    "%cd unsilence\n",
    "!python -m pip install -r requirements.txt --quiet"
   ]
  },
  {
   "cell_type": "code",
   "execution_count": null,
   "id": "7dd0131a-ed30-43e9-9b36-04bf844d23a7",
   "metadata": {},
   "outputs": [],
   "source": [
    "# download dataset\n",
    "!python -m spacy project assets"
   ]
  },
  {
   "cell_type": "code",
   "execution_count": null,
   "id": "3bf546d4-c008-4de0-97a8-6d8a074c27d5",
   "metadata": {},
   "outputs": [],
   "source": [
    "# show all project run commands\n",
    "!python -m spacy project run --help"
   ]
  },
  {
   "cell_type": "code",
   "execution_count": null,
   "id": "617ff29f-e40f-421a-98b6-93de07c7c0d9",
   "metadata": {},
   "outputs": [],
   "source": [
    "# download vectors\n",
    "!python -m spacy project run download"
   ]
  },
  {
   "cell_type": "code",
   "execution_count": null,
   "id": "eb6f007e-2051-4a89-b241-928b13a56fb5",
   "metadata": {},
   "outputs": [],
   "source": [
    "# convert data for spacy\n",
    "!python -m spacy project run convert-data-spans"
   ]
  },
  {
   "cell_type": "code",
   "execution_count": null,
   "id": "569f7db3-efb1-44e1-972b-594535a3bc4e",
   "metadata": {},
   "outputs": [],
   "source": [
    "# train the model\n",
    "# on CPU:\n",
    "!python -m spacy project run train-spancat\n",
    "# on GPU:\n",
    "# !python -m spacy project run train-spancat . --vars.gpu 0"
   ]
  },
  {
   "cell_type": "code",
   "execution_count": null,
   "id": "50d82fb3",
   "metadata": {},
   "outputs": [],
   "source": [
    "# create a model package\n",
    "!rm -rf packages\n",
    "!mkdir packages\n",
    "!python -m spacy package training/spancat/model-best --version 0.0.1 --name spancat_unsilence_lg packages --build wheel"
   ]
  },
  {
   "cell_type": "code",
   "execution_count": null,
   "id": "85a2b654",
   "metadata": {},
   "outputs": [],
   "source": [
    "# on colab: mount drive\n",
    "from google.colab import drive\n",
    "drive.mount('/content/drive')"
   ]
  },
  {
   "cell_type": "code",
   "execution_count": null,
   "id": "5ccb05f3",
   "metadata": {},
   "outputs": [],
   "source": [
    "# on colab: copy to drive\n",
    "!cp packages/nl_spancat_unsilence_lg-0.0.1/dist/nl_spancat_unsilence_lg-0.0.1-py3-none-any.whl /content/drive/MyDrive"
   ]
  }
 ],
 "metadata": {
  "kernelspec": {
   "display_name": "Python 3 (ipykernel)",
   "language": "python",
   "name": "python3"
  },
  "language_info": {
   "codemirror_mode": {
    "name": "ipython",
    "version": 3
   },
   "file_extension": ".py",
   "mimetype": "text/x-python",
   "name": "python",
   "nbconvert_exporter": "python",
   "pygments_lexer": "ipython3",
   "version": "3.8.10"
  }
 },
 "nbformat": 4,
 "nbformat_minor": 5
}
