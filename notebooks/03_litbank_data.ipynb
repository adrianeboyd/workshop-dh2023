{
 "cells": [
  {
   "cell_type": "markdown",
   "id": "41787f8b",
   "metadata": {},
   "source": [
    "Install spaCy, etc.:"
   ]
  },
  {
   "cell_type": "code",
   "execution_count": null,
   "id": "98a6f76a",
   "metadata": {},
   "outputs": [],
   "source": [
    "!python -m pip install 'spacy>=3.6.0.dev1' matplotlib --quiet"
   ]
  },
  {
   "cell_type": "markdown",
   "id": "e40a00ee",
   "metadata": {},
   "source": [
    "Clone project repository and install requirements:"
   ]
  },
  {
   "cell_type": "code",
   "execution_count": null,
   "id": "b9496e64",
   "metadata": {
    "scrolled": true
   },
   "outputs": [],
   "source": [
    "# edit the line below to choose a different working directory\n",
    "%cd\n",
    "!python -m spacy project clone litbank -r https://github.com/adrianeboyd/workshop-dh2023\n",
    "%cd litbank\n",
    "!python -m pip install -r requirements.txt"
   ]
  },
  {
   "cell_type": "code",
   "execution_count": null,
   "id": "17fae3a1",
   "metadata": {},
   "outputs": [],
   "source": [
    "#!python -m spacy project run download-vectors\n",
    "# TODO: replace after v3.6.0 release\n",
    "!python -m pip install https://github.com/explosion/spacy-models/releases/download/en_core_web_lg-3.5.0/en_core_web_lg-3.5.0-py3-none-any.whl --no-deps"
   ]
  },
  {
   "cell_type": "markdown",
   "id": "e16ea91c",
   "metadata": {},
   "source": [
    "Use `spacy debug data` to get an overview of the corpus annotation:"
   ]
  },
  {
   "cell_type": "code",
   "execution_count": null,
   "id": "fc3a9830",
   "metadata": {},
   "outputs": [],
   "source": [
    "!python -m spacy debug data configs/spancat.cfg --components.spancat.spans_key entities --paths.train corpus/entity_spans-train.spacy --paths.dev corpus/entity_spans-dev.spacy"
   ]
  },
  {
   "cell_type": "code",
   "execution_count": null,
   "id": "b84f2b58",
   "metadata": {},
   "outputs": [],
   "source": [
    "import spacy\n",
    "from spacy.displacy import render\n",
    "from spacy.tokens import DocBin\n",
    "nlp_blank = spacy.blank(\"en\")"
   ]
  },
  {
   "cell_type": "markdown",
   "id": "0a66497d",
   "metadata": {},
   "source": [
    "Reload this cell to start again at the first doc:"
   ]
  },
  {
   "cell_type": "code",
   "execution_count": null,
   "id": "1f5ff348",
   "metadata": {},
   "outputs": [],
   "source": [
    "docs = DocBin().from_disk(\"corpus/entity_spans-train.spacy\").get_docs(nlp_blank.vocab)"
   ]
  },
  {
   "cell_type": "markdown",
   "id": "b5ff83df",
   "metadata": {},
   "source": [
    "Reload the following cell to step through the docs in the dataset:"
   ]
  },
  {
   "cell_type": "code",
   "execution_count": null,
   "id": "75e5d81e",
   "metadata": {},
   "outputs": [],
   "source": [
    "# displacy the gold annotation with displacy\n",
    "doc = next(docs)\n",
    "colors = {\n",
    "    \"LOC\": \"#42D1FF\",\n",
    "    \"GPE\": \"#DB536B\",\n",
    "    \"PER\": \"#FAB400\",\n",
    "    \"FAC\": \"#94356F\",\n",
    "    \"ORG\": \"#FF6A16\",\n",
    "    \"VEH\": \"#319621\",\n",
    "}\n",
    "render(doc, style=\"span\", options={\"spans_key\": \"entities\", \"colors\": colors}, jupyter=True)"
   ]
  },
  {
   "cell_type": "code",
   "execution_count": null,
   "id": "c5df3c27",
   "metadata": {},
   "outputs": [],
   "source": [
    "%cd /home/adriane/spacy/events/dh2023/workshop-dh2023/litbank"
   ]
  },
  {
   "cell_type": "code",
   "execution_count": null,
   "id": "ba2e5dff",
   "metadata": {},
   "outputs": [],
   "source": [
    "from collections import Counter\n",
    "import matplotlib.pyplot as plt\n",
    "nlp_core = spacy.load(\"en_core_web_lg\")\n",
    "docs = list(DocBin().from_disk(\"corpus/entity_spans-train.spacy\").get_docs(nlp_core.vocab))\n",
    "span_lengths = Counter(len(span) for doc in docs for span in doc.spans[\"entities\"])\n",
    "plt.bar(span_lengths.keys(), span_lengths.values())\n",
    "plt.xlabel(\"N-Gram Length\")\n",
    "plt.ylabel(\"Count\")\n",
    "plt.show()"
   ]
  },
  {
   "cell_type": "code",
   "execution_count": null,
   "id": "02efcb2b",
   "metadata": {},
   "outputs": [],
   "source": [
    "!python -m pip install 'spacy-experimental~=0.6.2' --no-deps"
   ]
  },
  {
   "cell_type": "code",
   "execution_count": null,
   "id": "5e31beb0",
   "metadata": {},
   "outputs": [],
   "source": [
    "from spacy.util import registry\n",
    "from spacy.scorer import PRFScore\n",
    "docs = list(DocBin().from_disk(\"corpus/entity_spans-dev.spacy\").get_docs(nlp_core.vocab))\n",
    "parsed_docs = list(nlp_core.pipe(DocBin().from_disk(\"corpus/entity_spans-dev.spacy\").get_docs(nlp_core.vocab)))"
   ]
  },
  {
   "cell_type": "code",
   "execution_count": null,
   "id": "ca76d622",
   "metadata": {},
   "outputs": [],
   "source": [
    "def evaluate_suggester(suggester, docs, processed_docs):\n",
    "    gold_span_tuples = [(i, span.start, span.end) for i, doc in enumerate(docs) for span in doc.spans[\"entities\"]]\n",
    "    suggestions = suggester(processed_docs)\n",
    "    span_tuples = []\n",
    "    offset = 0\n",
    "    for i, length in enumerate(suggestions.lengths):\n",
    "        for j in range(length):\n",
    "            span_tuples.append((i, *suggestions.dataXd[j+offset]))\n",
    "        offset += length\n",
    "    prf = PRFScore()\n",
    "    prf.score_set(set(span_tuples), set(gold_span_tuples))\n",
    "    print(\"suggestions: \", len(span_tuples))\n",
    "    print(\"precision:   \", prf.precision)\n",
    "    print(\"recall:      \", prf.recall)"
   ]
  },
  {
   "cell_type": "code",
   "execution_count": null,
   "id": "c5d2d6bd",
   "metadata": {},
   "outputs": [],
   "source": [
    "suggester = registry.misc.get(\"spacy.ngram_suggester.v1\")([1, 2, 3, 4, 5, 6, 7, 8])\n",
    "evaluate_suggester(suggester, docs, parsed_docs)"
   ]
  },
  {
   "cell_type": "code",
   "execution_count": null,
   "id": "bb45d5da",
   "metadata": {},
   "outputs": [],
   "source": [
    "suggester = registry.misc.get(\"spacy-experimental.subtree_suggester.v1\")()\n",
    "evaluate_suggester(suggester, docs, parsed_docs)"
   ]
  },
  {
   "cell_type": "code",
   "execution_count": null,
   "id": "290f3023",
   "metadata": {},
   "outputs": [],
   "source": [
    "suggester = registry.misc.get(\"spacy-experimental.chunk_suggester.v1\")()\n",
    "evaluate_suggester(suggester, docs, parsed_docs)"
   ]
  },
  {
   "cell_type": "code",
   "execution_count": null,
   "id": "faf0aeab",
   "metadata": {},
   "outputs": [],
   "source": [
    "!python -m spacy project run train-span-finder-entities"
   ]
  },
  {
   "cell_type": "code",
   "execution_count": null,
   "id": "0e28f48f",
   "metadata": {},
   "outputs": [],
   "source": [
    "nlp_finder = spacy.load(\"training/span_finder_entities/model-best\")\n",
    "docs = list(DocBin().from_disk(\"corpus/entity_spans-dev.spacy\").get_docs(nlp_finder.vocab))\n",
    "parsed_docs = list(nlp_finder.pipe(doc.text for doc in docs))\n",
    "suggester = registry.misc.get(\"spacy.preset_spans_suggester.v1\")(spans_key=\"entities\")\n",
    "evaluate_suggester(suggester, docs, parsed_docs)"
   ]
  },
  {
   "cell_type": "code",
   "execution_count": null,
   "id": "a558d240",
   "metadata": {},
   "outputs": [],
   "source": []
  }
 ],
 "metadata": {
  "kernelspec": {
   "display_name": "Python 3 (ipykernel)",
   "language": "python",
   "name": "python3"
  },
  "language_info": {
   "codemirror_mode": {
    "name": "ipython",
    "version": 3
   },
   "file_extension": ".py",
   "mimetype": "text/x-python",
   "name": "python",
   "nbconvert_exporter": "python",
   "pygments_lexer": "ipython3",
   "version": "3.8.10"
  }
 },
 "nbformat": 4,
 "nbformat_minor": 5
}
